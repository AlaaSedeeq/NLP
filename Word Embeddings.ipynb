{
 "cells": [
  {
   "cell_type": "markdown",
   "metadata": {},
   "source": [
    "# Word Embeddings\n",
    "\n",
    "Word Embdeddings are vector representations of words/tokens in a vocabulary. To put is simply, these are mappings from words to vectors of real numbers. While word embeddings (or distributed representations of words) have a long history, recent advances allowed the training of word embeddings using large unsupervised corpora (like for example Wikipedia). One of the most of the models that had great impact in the domain was [word2vec](https://en.wikipedia.org/wiki/Word2vec). The idea of this model is to scan the documents with a fixed window and create pairs of words that can be used to train a neural model. The intuition is that by capturing the context of word we can learn good representations. For example, if the words `Greece`, `Italy` and `Europe` appear in the same context then we will expect these words to be semantically close in the embedding space.\n",
    "\n",
    "Another very popular method is GloVe which is a matrix factorization approach trained on the co-occurence matrix. This matrix has the number of times each pair of terms in the collection co-occur (withing a window)."
   ]
  },
  {
   "cell_type": "code",
   "execution_count": 1,
   "metadata": {},
   "outputs": [],
   "source": [
    "import os\n",
    "import urllib.request\n",
    "import matplotlib.pyplot as plt\n",
    "from scipy import spatial\n",
    "from sklearn.manifold import TSNE\n",
    "import numpy as np\n",
    "from umap import UMAP\n",
    "import seaborn as sns"
   ]
  },
  {
   "cell_type": "code",
   "execution_count": 2,
   "metadata": {},
   "outputs": [],
   "source": [
    "# read and prepare data\n",
    "def data_prep(path):\n",
    "    emmbed_dict = {}\n",
    "    with open(path,'r', encoding=\"utf8\") as f:\n",
    "        for line in f:\n",
    "            values = line.split()\n",
    "            word = values[0]\n",
    "            vector = np.asarray(values[1:],'float32')\n",
    "            emmbed_dict[word]=vector\n",
    "            \n",
    "    return emmbed_dict"
   ]
  },
  {
   "cell_type": "code",
   "execution_count": 3,
   "metadata": {},
   "outputs": [],
   "source": [
    "# read Glove data\n",
    "emmbed_dict = data_prep(r'glove.6B.50d.txt')"
   ]
  },
  {
   "cell_type": "code",
   "execution_count": 11,
   "metadata": {},
   "outputs": [],
   "source": [
    "# function to apply cosine similarity between words\n",
    "def find_similar_word(emmbedes, k):\n",
    "    nearest = sorted(emmbed_dict.keys(),\n",
    "                     key=lambda word: spatial.distance.cosine(emmbed_dict[word], emmbedes))\n",
    "    return {n:emmbed_dict[n] for n in nearest[:k]}"
   ]
  },
  {
   "cell_type": "code",
   "execution_count": 5,
   "metadata": {},
   "outputs": [],
   "source": [
    "# apply vector projection into a lower subspace(2-D) to plot the similar  words\n",
    "def plot_word_embeddings(words, vectors, num_neighbors=2, title=''):\n",
    "    \"\"\"\n",
    "    Utility function to do a 2d plot of word-embeddings with annotations.\n",
    "    \n",
    "    param words: list of words\n",
    "    param vectors: array of word embeddings corresponding to the list of words\n",
    "    param num_neighbors: number of neighbors to consider in the UMAP projection\n",
    "    \"\"\"\n",
    "    # Project the 50d vectors to a 2d space\n",
    "    V_umap = UMAP(n_neighbors=num_neighbors, min_dist=0.2).fit_transform(vectors)\n",
    "    \n",
    "    fig= plt.figure(figsize=(12,6))\n",
    "    \n",
    "    plt.title(title, fontsize=20)\n",
    "    \n",
    "    plt.scatter(V_umap[:, 0], V_umap[:, 1])\n",
    "    for i, word in enumerate(words):\n",
    "        plt.annotate(word, xy=(V_umap[i, 0], V_umap[i, 1]))\n",
    "    plt.show()"
   ]
  },
  {
   "cell_type": "markdown",
   "metadata": {},
   "source": [
    "### Test"
   ]
  },
  {
   "cell_type": "code",
   "execution_count": 12,
   "metadata": {},
   "outputs": [
    {
     "data": {
      "image/png": "[encoded data removed]",
      "text/plain": [
       "<Figure size 864x432 with 1 Axes>"
      ]
     },
     "metadata": {
      "needs_background": "light"
     },
     "output_type": "display_data"
    }
   ],
   "source": [
    "word_test = 'friend'\n",
    "similars = find_similar_word(emmbed_dict[word_test], 5)\n",
    "plot_word_embeddings(words=list(similars.keys()), vectors=list(similars.values()), title=word_test.title())"
   ]
  },
  {
   "cell_type": "code",
   "execution_count": 13,
   "metadata": {
    "scrolled": false
   },
   "outputs": [
    {
     "data": {
      "text/plain": [
       "dict_keys(['friend', 'father', 'wife', 'husband', 'brother'])"
      ]
     },
     "execution_count": 13,
     "metadata": {},
     "output_type": "execute_result"
    }
   ],
   "source": [
    "similars.keys()"
   ]
  },
  {
   "cell_type": "markdown",
   "metadata": {},
   "source": [
    "# References\n",
    "- https://en.wikipedia.org/wiki/Word_embedding\n",
    "- https://ruder.io/word-embeddings-1/\n",
    "- https://nlp.stanford.edu/projects/glove/\n",
    "- https://en.wikipedia.org/wiki/Word2vec\n",
    "- http://insideairbnb.com/get-the-data.html"
   ]
  }
 ],
 "metadata": {
  "kernelspec": {
   "display_name": "Python 3 (ipykernel)",
   "language": "python",
   "name": "python3"
  },
  "language_info": {
   "codemirror_mode": {
    "name": "ipython",
    "version": 3
   },
   "file_extension": ".py",
   "mimetype": "text/x-python",
   "name": "python",
   "nbconvert_exporter": "python",
   "pygments_lexer": "ipython3",
   "version": "3.9.7"
  }
 },
 "nbformat": 4,
 "nbformat_minor": 4
}
